{
 "cells": [
  {
   "cell_type": "code",
   "execution_count": 1,
   "metadata": {},
   "outputs": [],
   "source": [
    "import numpy as np, random, operator, pandas as pd, matplotlib.pyplot as plt"
   ]
  },
  {
   "cell_type": "markdown",
   "metadata": {},
   "source": [
    "## Create necessary classes and functions"
   ]
  },
  {
   "cell_type": "markdown",
   "metadata": {},
   "source": [
    "Create class to handle \"cities\""
   ]
  },
  {
   "cell_type": "code",
   "execution_count": 2,
   "metadata": {},
   "outputs": [],
   "source": [
    "class City:\n",
    "    def __init__(self, city_name,x, y, marCortez, golfoMexico):\n",
    "        self.city_name = city_name\n",
    "        self.x = y\n",
    "        self.y = x\n",
    "        self.marCortez = marCortez\n",
    "        self.golfoMexico = golfoMexico\n",
    "    \n",
    "    def distance(self, city):\n",
    "        xDis = abs(self.x - city.x)\n",
    "        yDis = abs(self.y - city.y)\n",
    "        \n",
    "        penalty = 5\n",
    "        \n",
    "        distance = np.sqrt((xDis ** 2) + (yDis ** 2)) \n",
    "        + (penalty * (self.marCortez - city.marCortez)** 2) \n",
    "        + (penalty * (self.golfoMexico - city.golfoMexico)**2)\n",
    "        \n",
    "        return distance\n",
    "    \n",
    "    def getCity(self):\n",
    "        print(self.city)\n",
    "        return(self.city_name)\n",
    "    \n",
    "    def getX(self):\n",
    "        return(self.x)\n",
    "    def getY(self):\n",
    "        return(self.y)\n",
    "    \n",
    "    def __repr__(self):\n",
    "        return \"(\" + str(self.city_name) + \",\"+ str(self.x) + \",\" + str(self.y) + \")\""
   ]
  },
  {
   "cell_type": "markdown",
   "metadata": {},
   "source": [
    "Create a fitness function"
   ]
  },
  {
   "cell_type": "code",
   "execution_count": 3,
   "metadata": {},
   "outputs": [],
   "source": [
    "class Fitness:\n",
    "    def __init__(self, route):\n",
    "        self.route = route\n",
    "        self.distance = 0\n",
    "        self.fitness= 0.0\n",
    "    \n",
    "    def routeDistance(self):\n",
    "        if self.distance ==0:\n",
    "            pathDistance = 0\n",
    "            for i in range(0, len(self.route)):\n",
    "                fromCity = self.route[i]\n",
    "                toCity = None\n",
    "                if i + 1 < len(self.route):\n",
    "                    toCity = self.route[i + 1]\n",
    "                else:\n",
    "                    toCity = self.route[0]\n",
    "                pathDistance += fromCity.distance(toCity)\n",
    "            self.distance = pathDistance\n",
    "        return self.distance\n",
    "    \n",
    "    def routeFitness(self):\n",
    "        if self.fitness == 0:\n",
    "            self.fitness = 1 / float(self.routeDistance())\n",
    "        return self.fitness"
   ]
  },
  {
   "cell_type": "markdown",
   "metadata": {},
   "source": [
    "## Create our initial population"
   ]
  },
  {
   "cell_type": "markdown",
   "metadata": {},
   "source": [
    "Route generator"
   ]
  },
  {
   "cell_type": "code",
   "execution_count": 4,
   "metadata": {},
   "outputs": [],
   "source": [
    "def createRoute(cityList):\n",
    "    route = random.sample(cityList, len(cityList))\n",
    "    return route"
   ]
  },
  {
   "cell_type": "markdown",
   "metadata": {},
   "source": [
    "Create first \"population\" (list of routes)"
   ]
  },
  {
   "cell_type": "code",
   "execution_count": 5,
   "metadata": {},
   "outputs": [],
   "source": [
    "def initialPopulation(popSize, cityList):\n",
    "    population = []\n",
    "\n",
    "    for i in range(0, popSize):\n",
    "        population.append(createRoute(cityList))\n",
    "    return population"
   ]
  },
  {
   "cell_type": "markdown",
   "metadata": {},
   "source": [
    "## Create the genetic algorithm"
   ]
  },
  {
   "cell_type": "markdown",
   "metadata": {},
   "source": [
    "Rank individuals"
   ]
  },
  {
   "cell_type": "code",
   "execution_count": 6,
   "metadata": {},
   "outputs": [],
   "source": [
    "def rankRoutes(population):\n",
    "    fitnessResults = {}\n",
    "    for i in range(0,len(population)):\n",
    "        fitnessResults[i] = Fitness(population[i]).routeFitness()\n",
    "    return sorted(fitnessResults.items(), key = operator.itemgetter(1), reverse = True)"
   ]
  },
  {
   "cell_type": "markdown",
   "metadata": {},
   "source": [
    "Create a selection function that will be used to make the list of parent routes"
   ]
  },
  {
   "cell_type": "code",
   "execution_count": 7,
   "metadata": {},
   "outputs": [],
   "source": [
    "def selection(popRanked, eliteSize):\n",
    "    selectionResults = []\n",
    "    df = pd.DataFrame(np.array(popRanked), columns=[\"Index\",\"Fitness\"])\n",
    "    df['cum_sum'] = df.Fitness.cumsum()\n",
    "    df['cum_perc'] = 100*df.cum_sum/df.Fitness.sum()\n",
    "    \n",
    "    for i in range(0, eliteSize):\n",
    "        selectionResults.append(popRanked[i][0])\n",
    "    for i in range(0, len(popRanked) - eliteSize):\n",
    "        pick = 100*random.random()\n",
    "        for i in range(0, len(popRanked)):\n",
    "            if pick <= df.iat[i,3]:\n",
    "                selectionResults.append(popRanked[i][0])\n",
    "                break\n",
    "    return selectionResults"
   ]
  },
  {
   "cell_type": "markdown",
   "metadata": {},
   "source": [
    "Create mating pool"
   ]
  },
  {
   "cell_type": "code",
   "execution_count": 8,
   "metadata": {},
   "outputs": [],
   "source": [
    "def matingPool(population, selectionResults):\n",
    "    matingpool = []\n",
    "    for i in range(0, len(selectionResults)):\n",
    "        index = selectionResults[i]\n",
    "        matingpool.append(population[index])\n",
    "    return matingpool"
   ]
  },
  {
   "cell_type": "markdown",
   "metadata": {},
   "source": [
    "Create a crossover function for two parents to create one child"
   ]
  },
  {
   "cell_type": "code",
   "execution_count": 9,
   "metadata": {},
   "outputs": [],
   "source": [
    "def breed(parent1, parent2):\n",
    "    child = []\n",
    "    childP1 = []\n",
    "    childP2 = []\n",
    "    \n",
    "    geneA = int(random.random() * len(parent1))\n",
    "    geneB = int(random.random() * len(parent1))\n",
    "    \n",
    "    startGene = min(geneA, geneB)\n",
    "    endGene = max(geneA, geneB)\n",
    "\n",
    "    for i in range(startGene, endGene):\n",
    "        childP1.append(parent1[i])\n",
    "        \n",
    "    childP2 = [item for item in parent2 if item not in childP1]\n",
    "\n",
    "    child = childP1 + childP2\n",
    "    return child"
   ]
  },
  {
   "cell_type": "markdown",
   "metadata": {},
   "source": [
    "Create function to run crossover over full mating pool"
   ]
  },
  {
   "cell_type": "code",
   "execution_count": 10,
   "metadata": {},
   "outputs": [],
   "source": [
    "def breedPopulation(matingpool, eliteSize):\n",
    "    children = []\n",
    "    length = len(matingpool) - eliteSize\n",
    "    pool = random.sample(matingpool, len(matingpool))\n",
    "\n",
    "    for i in range(0,eliteSize):\n",
    "        children.append(matingpool[i])\n",
    "    \n",
    "    for i in range(0, length):\n",
    "        child = breed(pool[i], pool[len(matingpool)-i-1])\n",
    "        children.append(child)\n",
    "    return children"
   ]
  },
  {
   "cell_type": "markdown",
   "metadata": {},
   "source": [
    "Create function to mutate a single route"
   ]
  },
  {
   "cell_type": "code",
   "execution_count": 11,
   "metadata": {},
   "outputs": [],
   "source": [
    "def mutate(individual, mutationRate):\n",
    "    for swapped in range(len(individual)):\n",
    "        if(random.random() < mutationRate):\n",
    "            swapWith = int(random.random() * len(individual))\n",
    "            \n",
    "            city1 = individual[swapped]\n",
    "            city2 = individual[swapWith]\n",
    "            \n",
    "            individual[swapped] = city2\n",
    "            individual[swapWith] = city1\n",
    "    return individual"
   ]
  },
  {
   "cell_type": "markdown",
   "metadata": {},
   "source": [
    "Create function to run mutation over entire population"
   ]
  },
  {
   "cell_type": "code",
   "execution_count": 12,
   "metadata": {},
   "outputs": [],
   "source": [
    "def mutatePopulation(population, mutationRate):\n",
    "    mutatedPop = []\n",
    "    \n",
    "    for ind in range(0, len(population)):\n",
    "        mutatedInd = mutate(population[ind], mutationRate)\n",
    "        mutatedPop.append(mutatedInd)\n",
    "    return mutatedPop"
   ]
  },
  {
   "cell_type": "markdown",
   "metadata": {},
   "source": [
    "Put all steps together to create the next generation"
   ]
  },
  {
   "cell_type": "code",
   "execution_count": 13,
   "metadata": {},
   "outputs": [],
   "source": [
    "def nextGeneration(currentGen, eliteSize, mutationRate):\n",
    "    popRanked = rankRoutes(currentGen)\n",
    "    selectionResults = selection(popRanked, eliteSize)\n",
    "    matingpool = matingPool(currentGen, selectionResults)\n",
    "    children = breedPopulation(matingpool, eliteSize)\n",
    "    nextGeneration = mutatePopulation(children, mutationRate)\n",
    "    return nextGeneration"
   ]
  },
  {
   "cell_type": "markdown",
   "metadata": {},
   "source": [
    "Final step: create the genetic algorithm"
   ]
  },
  {
   "cell_type": "code",
   "execution_count": 14,
   "metadata": {},
   "outputs": [],
   "source": [
    "def geneticAlgorithm(population, popSize, eliteSize, mutationRate, generations):\n",
    "    pop = initialPopulation(popSize, population)\n",
    "    print(\"Initial distance: \" + str(1 / rankRoutes(pop)[0][1]))\n",
    "    \n",
    "    for i in range(0, generations):\n",
    "        pop = nextGeneration(pop, eliteSize, mutationRate)\n",
    "    \n",
    "    print(\"Final distance: \" + str(1 / rankRoutes(pop)[0][1]))\n",
    "    bestRouteIndex = rankRoutes(pop)[0][0]\n",
    "    bestRoute = pop[bestRouteIndex]\n",
    "    return bestRoute"
   ]
  },
  {
   "cell_type": "markdown",
   "metadata": {},
   "source": [
    "## Running the genetic algorithm"
   ]
  },
  {
   "cell_type": "markdown",
   "metadata": {},
   "source": [
    "Create list of cities"
   ]
  },
  {
   "cell_type": "code",
   "execution_count": 15,
   "metadata": {},
   "outputs": [
    {
     "name": "stdout",
     "output_type": "stream",
     "text": [
      "32\n"
     ]
    }
   ],
   "source": [
    "cityList = []\n",
    "\n",
    "cityList.append(City(city_name = \"Ciudad de México\", x=19.4326, y= -99.1332, marCortez = 1 , golfoMexico = 1))\n",
    "cityList.append(City(city_name = \"Puebla de Zaragoza\", x=19.0414, y= -98.2063, marCortez = 1 , golfoMexico = 1))\n",
    "cityList.append(City(city_name = \"Guadalajara\", x=20.6597, y= -103.3496, marCortez = 1 , golfoMexico = 1))\n",
    "\n",
    "cityList.append(City(city_name = \"Monterrey\", x=25.6866, y= -100.3161, marCortez = 1 , golfoMexico = 1))\n",
    "\n",
    "\n",
    "cityList.append(City(city_name = \"Chihuahua \", x=28.6330, y= -106.0691, marCortez = 1 , golfoMexico = 1))\n",
    "cityList.append(City(city_name = \"Mérida\", x=20.9674, y= -89.5926, marCortez = 1 , golfoMexico = -1))\n",
    "cityList.append(City(city_name = \"Saltillo\", x=25.4383, y= -100.9737, marCortez = 1 , golfoMexico = 1))\n",
    "\n",
    "cityList.append(City(city_name = \"Aguascalientes\", x=21.8853, y= -102.2916, marCortez = 1 , golfoMexico = 1))\n",
    "cityList.append(City(city_name = \"Hermosillo\", x=29.0730, y= -110.9559, marCortez = 1 , golfoMexico = 1))\n",
    "cityList.append(City(city_name = \"Mexicali\", x=32.6245, y= -115.4523, marCortez = -1 , golfoMexico = 1))\n",
    "\n",
    "cityList.append(City(city_name = \"San Luis Potosí \", x=22.1566, y= -100.9855, marCortez = 1 , golfoMexico = 1))\n",
    "cityList.append(City(city_name = \"Culiacán Rosales\", x=24.8091, y= -107.3940, marCortez = 1 , golfoMexico = 1))\n",
    "cityList.append(City(city_name = \"Santiago de Querétaro\", x=20.5888, y= -100.3899, marCortez = 1 , golfoMexico = 1))\n",
    "\n",
    "cityList.append(City(city_name = \"Morelia\", x=19.7060, y= -101.1950, marCortez = 1 , golfoMexico = 1))\n",
    "cityList.append(City(city_name = \"Durango\", x=24.0277, y= -104.6532, marCortez = 1 , golfoMexico = 1))\n",
    "cityList.append(City(city_name = \"Tuxtla Gutiérrez \", x=16.7516, y= -93.1030, marCortez = 1 , golfoMexico = 1))\n",
    "\n",
    "cityList.append(City(city_name = \"Xalapa-Enríquez \", x=19.5438, y= -96.9102, marCortez = 1 , golfoMexico = 1))\n",
    "cityList.append(City(city_name = \"Tepic\", x=21.5042, y= -104.8946, marCortez = 1 , golfoMexico = 1))\n",
    "cityList.append(City(city_name = \"Cuernavaca\", x=18.9242, y= -99.2216, marCortez = 1 , golfoMexico = 1))\n",
    "\n",
    "cityList.append(City(city_name = \"Villahermosa\", x=17.9895, y= -92.9475, marCortez = 1 , golfoMexico = 1))\n",
    "cityList.append(City(city_name = \"Ciudad Victoria\", x=23.7369, y= -99.1411, marCortez = 1 , golfoMexico = 1))\n",
    "cityList.append(City(city_name = \"Pachuca de Soto\", x=20.1011, y= -98.7591, marCortez = 1 , golfoMexico = 1))\n",
    "\n",
    "cityList.append(City(city_name = \"Oaxaca de Juárez\", x=17.0732, y= -96.7266, marCortez = 1 , golfoMexico = 1))\n",
    "cityList.append(City(city_name = \"La Paz\", x=24.1426, y= -110.3128, marCortez = -1 , golfoMexico = 1))\n",
    "cityList.append(City(city_name = \"San Francisco de Campeche\", x=19.8301, y= -90.5349, marCortez = 1 , golfoMexico = -1))\n",
    "\n",
    "cityList.append(City(city_name = \"Chilpancingo de los Bravo \", x=17.5515, y= -99.5006, marCortez = 1 , golfoMexico = 1))\n",
    "cityList.append(City(city_name = \"Toluca de Lerdo \", x=19.2826, y= -99.6557, marCortez = 1 , golfoMexico = 1))\n",
    "cityList.append(City(city_name = \"Chetumal\", x=18.5002, y= -88.2961, marCortez = 1 , golfoMexico = -1))\n",
    "\n",
    "cityList.append(City(city_name = \"Colima\", x=19.2452, y= -88.2961, marCortez = 1 , golfoMexico = 1))\n",
    "cityList.append(City(city_name = \"Zacatecas\", x=22.7709, y= -103.7241, marCortez = 1 , golfoMexico = 1))\n",
    "cityList.append(City(city_name = \"Guanajuato\", x=21.0190, y= -101.2574, marCortez = 1 , golfoMexico = 1))\n",
    "\n",
    "cityList.append(City(city_name = \"Tlaxcala de Xicohténcatl\", x=19.3182, y= -98.2375, marCortez = 1 , golfoMexico = 1))\n",
    "\n",
    "print(len(cityList))"
   ]
  },
  {
   "cell_type": "markdown",
   "metadata": {},
   "source": [
    "Run the genetic algorithm"
   ]
  },
  {
   "cell_type": "code",
   "execution_count": 16,
   "metadata": {},
   "outputs": [
    {
     "name": "stdout",
     "output_type": "stream",
     "text": [
      "Initial distance: 213.9644465452041\n",
      "Final distance: 87.07387882374043\n"
     ]
    }
   ],
   "source": [
    "history = geneticAlgorithm(population=cityList, popSize=100, eliteSize=20, mutationRate=0.01, generations=600)"
   ]
  },
  {
   "cell_type": "code",
   "execution_count": 17,
   "metadata": {},
   "outputs": [
    {
     "data": {
      "text/plain": [
       "[(Saltillo,-100.9737,25.4383),\n",
       " (Monterrey,-100.3161,25.6866),\n",
       " (Ciudad Victoria,-99.1411,23.7369),\n",
       " (Oaxaca de Juárez,-96.7266,17.0732),\n",
       " (Tuxtla Gutiérrez ,-93.103,16.7516),\n",
       " (Villahermosa,-92.9475,17.9895),\n",
       " (Chetumal,-88.2961,18.5002),\n",
       " (Colima,-88.2961,19.2452),\n",
       " (Mérida,-89.5926,20.9674),\n",
       " (San Francisco de Campeche,-90.5349,19.8301),\n",
       " (Xalapa-Enríquez ,-96.9102,19.5438),\n",
       " (Puebla de Zaragoza,-98.2063,19.0414),\n",
       " (Tlaxcala de Xicohténcatl,-98.2375,19.3182),\n",
       " (Chilpancingo de los Bravo ,-99.5006,17.5515),\n",
       " (Cuernavaca,-99.2216,18.9242),\n",
       " (Toluca de Lerdo ,-99.6557,19.2826),\n",
       " (Ciudad de México,-99.1332,19.4326),\n",
       " (Pachuca de Soto,-98.7591,20.1011),\n",
       " (Santiago de Querétaro,-100.3899,20.5888),\n",
       " (Morelia,-101.195,19.706),\n",
       " (Guanajuato,-101.2574,21.019),\n",
       " (San Luis Potosí ,-100.9855,22.1566),\n",
       " (Aguascalientes,-102.2916,21.8853),\n",
       " (Zacatecas,-103.7241,22.7709),\n",
       " (Durango,-104.6532,24.0277),\n",
       " (Chihuahua ,-106.0691,28.633),\n",
       " (Hermosillo,-110.9559,29.073),\n",
       " (Mexicali,-115.4523,32.6245),\n",
       " (La Paz,-110.3128,24.1426),\n",
       " (Culiacán Rosales,-107.394,24.8091),\n",
       " (Tepic,-104.8946,21.5042),\n",
       " (Guadalajara,-103.3496,20.6597)]"
      ]
     },
     "execution_count": 17,
     "metadata": {},
     "output_type": "execute_result"
    }
   ],
   "source": [
    "history"
   ]
  },
  {
   "cell_type": "code",
   "execution_count": 18,
   "metadata": {},
   "outputs": [],
   "source": [
    "import matplotlib.pyplot as plt\n",
    "from matplotlib.animation import FuncAnimation"
   ]
  },
  {
   "cell_type": "code",
   "execution_count": 19,
   "metadata": {},
   "outputs": [
    {
     "data": {
      "image/png": "[encoded data removed]",
      "text/plain": [
       "<Figure size 432x288 with 1 Axes>"
      ]
     },
     "metadata": {
      "needs_background": "light"
     },
     "output_type": "display_data"
    }
   ],
   "source": [
    "fig, ax = plt.subplots()\n",
    "line, = plt.plot([], [], lw=2)\n",
    "    \n",
    "x = []\n",
    "y = []\n",
    "    \n",
    "for i in history:\n",
    "    x.append(i.getX())\n",
    "    y.append(i.getY())\n",
    "\n",
    "plt.plot(x, y, 'co')\n",
    "\n",
    "#for i in history:\n",
    " #   cityName = str(i.getCity())\n",
    "  #  plt.annotate(cityName, (i.getX(), i.getY()))\n",
    "    \n",
    "img = plt.imread(\"mapaMexico.jpg\")\n",
    "ax.imshow(img, extent=[-117, -89, 15, 33])\n",
    "\n",
    "extra_x = (max(x) - min(x)) * 0.05\n",
    "extra_y = (max(y) - min(y)) * 0.05\n",
    "ax.set_xlim(min(x) - extra_x, max(x) + extra_x)\n",
    "ax.set_ylim(min(y) - extra_y, max(y) + extra_y)\n",
    "\n",
    "'''initialize solution to be empty '''\n",
    "line.set_data([], [])\n",
    "\n",
    "line.set_data(x, y)\n",
    "\n",
    "plt.show()\n",
    "\n"
   ]
  },
  {
   "cell_type": "markdown",
   "metadata": {},
   "source": [
    "## Plot the progress"
   ]
  },
  {
   "cell_type": "markdown",
   "metadata": {},
   "source": [
    "Note, this will win run a separate GA"
   ]
  },
  {
   "cell_type": "code",
   "execution_count": 20,
   "metadata": {},
   "outputs": [],
   "source": [
    "def geneticAlgorithmPlot(population, popSize, eliteSize, mutationRate, generations):\n",
    "    pop = initialPopulation(popSize, population)\n",
    "    progress = []\n",
    "    progress.append(1 / rankRoutes(pop)[0][1])\n",
    "    \n",
    "    for i in range(0, generations):\n",
    "        pop = nextGeneration(pop, eliteSize, mutationRate)\n",
    "        progress.append(1 / rankRoutes(pop)[0][1])\n",
    "    \n",
    "    plt.plot(progress)\n",
    "    plt.ylabel('Distance')\n",
    "    plt.xlabel('Generation')\n",
    "    plt.show()"
   ]
  },
  {
   "cell_type": "markdown",
   "metadata": {},
   "source": [
    "Run the function with our assumptions to see how distance has improved in each generation"
   ]
  },
  {
   "cell_type": "code",
   "execution_count": null,
   "metadata": {},
   "outputs": [],
   "source": [
    "geneticAlgorithmPlot(population=cityList, popSize=100, eliteSize=20, mutationRate=0.01, generations=500)"
   ]
  }
 ],
 "metadata": {
  "kernelspec": {
   "display_name": "Python 3 (ipykernel)",
   "language": "python",
   "name": "python3"
  },
  "language_info": {
   "codemirror_mode": {
    "name": "ipython",
    "version": 3
   },
   "file_extension": ".py",
   "mimetype": "text/x-python",
   "name": "python",
   "nbconvert_exporter": "python",
   "pygments_lexer": "ipython3",
   "version": "3.9.7"
  }
 },
 "nbformat": 4,
 "nbformat_minor": 2
}
